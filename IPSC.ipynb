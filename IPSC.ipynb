{
 "cells": [
  {
   "cell_type": "code",
   "execution_count": 1,
   "metadata": {
    "colab": {},
    "colab_type": "code",
    "id": "7gZGK2vhNdbR"
   },
   "outputs": [],
   "source": [
    "import pandas as pd\n",
    "from sklearn.model_selection import train_test_split\n",
    "import numpy as np\n",
    "from sklearn.metrics import accuracy_score\n",
    "import matplotlib.pyplot as plt\n",
    "import random\n",
    "from sklearn.preprocessing import StandardScaler"
   ]
  },
  {
   "cell_type": "code",
   "execution_count": 10,
   "metadata": {
    "colab": {
     "base_uri": "https://localhost:8080/",
     "height": 106
    },
    "colab_type": "code",
    "id": "gEq7gbDtLiDV",
    "outputId": "c1ebdfa9-56c0-4f03-f5ea-4057b91d1e5d"
   },
   "outputs": [
    {
     "name": "stderr",
     "output_type": "stream",
     "text": [
      "/home/tayal/anaconda3/lib/python3.7/site-packages/sklearn/preprocessing/data.py:625: DataConversionWarning: Data with input dtype int64 were all converted to float64 by StandardScaler.\n",
      "  return self.partial_fit(X, y)\n",
      "/home/tayal/anaconda3/lib/python3.7/site-packages/sklearn/base.py:462: DataConversionWarning: Data with input dtype int64 were all converted to float64 by StandardScaler.\n",
      "  return self.fit(X, **fit_params).transform(X)\n"
     ]
    }
   ],
   "source": [
    "df = pd.read_csv(\"/home/tayal/Downloads/IPSC_Project/mnsit_train_appreal.csv\")\n",
    "Y = df.iloc[:,0:1]\n",
    "X = df.iloc[:,1:]\n",
    "X = StandardScaler().fit_transform(X)\n",
    "X = pd.DataFrame(data=X)\n",
    "X_train, X_test, Y_train, Y_test = train_test_split(X, Y, test_size = 0.2,random_state=1)\n",
    "Tr = X_train.values.tolist()\n",
    "Tr_test = X_test.values.tolist()\n",
    "y_train=pd.concat([Y_train,pd.get_dummies(Y_train['label'],prefix='label')],axis=1).drop(['label'],axis=1)\n",
    "y_train_test = pd.concat([Y_test,pd.get_dummies(Y_test['label'],prefix='label')],axis=1).drop(['label'],axis=1)\n",
    "Tst_tst = y_train_test.values.tolist()\n",
    "Tst = y_train.values.tolist()"
   ]
  },
  {
   "cell_type": "code",
   "execution_count": 11,
   "metadata": {
    "colab": {},
    "colab_type": "code",
    "id": "ZBcOQZxNLiCk"
   },
   "outputs": [],
   "source": [
    "def sigmoid(x):\n",
    "      return 1 / (1 + np.exp(-x))"
   ]
  },
  {
   "cell_type": "code",
   "execution_count": 12,
   "metadata": {
    "colab": {},
    "colab_type": "code",
    "id": "UBnKaQDyLiCt"
   },
   "outputs": [],
   "source": [
    "def sigmoid_prime(x):\n",
    "    return x*(1- x)"
   ]
  },
  {
   "cell_type": "code",
   "execution_count": 13,
   "metadata": {
    "colab": {},
    "colab_type": "code",
    "id": "afdK-0S2LiDM"
   },
   "outputs": [],
   "source": [
    "class NeuralNetwork:\n",
    "    \n",
    "    def __init__(self,nodes_list,learnign_rate,activation_function,activation_prime):\n",
    "        self.nodes,self.learning_rate,self.act_func,self.act_func_prime=nodes_list,learnign_rate,activation_function,activation_prime\n",
    "        self.layers=len(nodes_list)\n",
    "        self.weights,self.biases=[],[]\n",
    "        \n",
    "        for i in range(self.layers-1):\n",
    "            if activation_function is None:\n",
    "              return\n",
    "            weight_matrix = np.random.randn(nodes_list[i+1],nodes_list[i])*np.sqrt(2/nodes_list[i])\n",
    "            if len(weight_matrix) == 0:\n",
    "              return\n",
    "            bias_matrix = np.zeros((nodes_list[i+1],1))\n",
    "            \n",
    "            self.weights.append(weight_matrix)\n",
    "            self.wlearner = len(weight_matrix)\n",
    "            self.biases.append(bias_matrix)\n",
    "            self.learner = len(bias_matrix)\n",
    "            if self.wlearner == 0 or self.learner==0:\n",
    "              pirnt(\"Bad computation\")\n",
    "            \n",
    "      \n",
    "    def softmax(self, z):\n",
    "          z = z - z.max(axis=0, keepdims=True)\n",
    "          exp = np.nan_to_num(np.exp(z))\n",
    "          return exp / exp.sum(axis=0, keepdims=True)\n",
    "        \n",
    "    \n",
    "          \n",
    "    def iterate_X(self, input_array):\n",
    "        outputs=[]\n",
    "        inputs=[]\n",
    "        X = np.array(input_array).T\n",
    "        inputs.append(X)\n",
    "        i = 0\n",
    "        while i < (len(self.weights)-1):\n",
    "            X=np.dot(self.weights[i],X) + self.biases[i]\n",
    "            X = np.vectorize(self.act_func)(X)\n",
    "            outputs.append(X)\n",
    "            inputs.append(X)\n",
    "            i+=1\n",
    "        X=np.dot(self.weights[i],X)\n",
    "        X=X+self.biases[i]\n",
    "        X=self.softmax(X)\n",
    "        outputs.append(X)\n",
    "        inputs.append(X)\n",
    "        return X,inputs,outputs\n",
    "      \n",
    "      \n",
    "    def compute_cost(self, prediction, target):\n",
    "        clipped = np.clip(prediction, 1e-15, 1 - 1e-15)\n",
    "        cost = target * np.log(clipped) + (1 - target) * np.log(1 - clipped)\n",
    "        m = prediction.shape[1]\n",
    "        xt = m\n",
    "        return -np.sum(cost)/xt\n",
    "  \n",
    "    def feed_forward(self,input_array):\n",
    "        X,inputs,outputs = self.iterate_X(input_array)\n",
    "        return X\n",
    "     \n",
    "    def change_weights(self,inputs,outputs,target,m,predicted,errors,n):\n",
    "        gradients = target-predicted\n",
    "        i = n       \n",
    "        while i>=0:\n",
    "            if i == n:\n",
    "                gradients = target-predicted\n",
    "            else:\n",
    "                gradients = self.act_func_prime(outputs[i])\n",
    "                gradients = (errors[i]*gradients)\n",
    "                gradients = gradients.reshape(len(gradients),len(gradients[0]))\n",
    "                \n",
    "            delta_weight = (1/m)*self.learning_rate*np.dot(gradients,inputs[i].T)\n",
    "            self.weights[i]+=delta_weight\n",
    "            meaner = gradients.mean(axis=1)\n",
    "            self.biases[i]+=self.learning_rate*meaner.reshape(len(meaner),1)\n",
    "            i-=1\n",
    "      \n",
    "    def train(self,input_array,target,m):\n",
    "        predicted,inputs,outputs = self.iterate_X(input_array)       \n",
    "        if target is None:\n",
    "            print(\"Y is missing\")\n",
    "            exit(0)\n",
    "        else:\n",
    "            target = np.array(target).T\n",
    "        errors=[]\n",
    "        error = target - predicted\n",
    "        n = len(self.weights)-1\n",
    "        i = n\n",
    "        while(i>0):\n",
    "            errors.append(error)\n",
    "            error  = np.dot(self.weights[i].T,error)\n",
    "            i-=1\n",
    "        errors.append(error)  \n",
    "        \n",
    "        errors=list(reversed(errors))\n",
    "        \n",
    "        \n",
    "        self.change_weights(inputs,outputs,target,m,predicted,errors,n)\n",
    "        \n",
    "\n",
    "        \n"
   ]
  },
  {
   "cell_type": "markdown",
   "metadata": {
    "colab_type": "text",
    "id": "tHE-8agHAmka"
   },
   "source": [
    "## Activation as Sigmoid"
   ]
  },
  {
   "cell_type": "code",
   "execution_count": 16,
   "metadata": {
    "colab": {},
    "colab_type": "code",
    "id": "lzfahV6xLiEL"
   },
   "outputs": [],
   "source": [
    "layer = [28*28,80,10]\n",
    "nn = NeuralNetwork(layer,0.1,sigmoid,sigmoid_prime)\n",
    "batch=512\n",
    "epoc=[i+1 for i in range(10)]\n",
    "accuracy_list = [0] * 10\n",
    "for e in epoc:\n",
    "    for i in range(0,10000-batch,batch):\n",
    "        newbatch = i + batch\n",
    "        nn.train(Tr[i:newbatch],Tst[i:newbatch],batch)\n",
    "    if nn is None:\n",
    "      print(\"Model is None\")\n",
    "    result = np.argmax(nn.feed_forward(Tr_test),axis=0)\n",
    "    actual = np.argmax(np.array(Tst_tst).T,axis=0)\n",
    "    if len(actual) == len(result):\n",
    "      accuracy_list[e-1] = 1-accuracy_score(actual, result)\n",
    "    else:\n",
    "      print(\"Lenght not same\")"
   ]
  },
  {
   "cell_type": "code",
   "execution_count": 17,
   "metadata": {
    "colab": {
     "base_uri": "https://localhost:8080/",
     "height": 361
    },
    "colab_type": "code",
    "id": "WREnem4Uu5vq",
    "outputId": "d71ec052-8091-4280-f061-0b784b837e54"
   },
   "outputs": [
    {
     "data": {
      "image/png": "[encoded data removed]",
      "text/plain": [
       "<Figure size 432x288 with 1 Axes>"
      ]
     },
     "metadata": {
      "needs_background": "light"
     },
     "output_type": "display_data"
    }
   ],
   "source": [
    "plt.plot(epoc, accuracy_list, color='blue')\n",
    "plt.xlabel(\"Epoc\")\n",
    "plt.ylabel(\"Error\")\n",
    "plt.show()"
   ]
  },
  {
   "cell_type": "code",
   "execution_count": null,
   "metadata": {},
   "outputs": [],
   "source": []
  }
 ],
 "metadata": {
  "accelerator": "GPU",
  "colab": {
   "collapsed_sections": [],
   "name": "q-1.ipynb",
   "provenance": [],
   "version": "0.3.2"
  },
  "kernelspec": {
   "display_name": "Python 3",
   "language": "python",
   "name": "python3"
  },
  "language_info": {
   "codemirror_mode": {
    "name": "ipython",
    "version": 3
   },
   "file_extension": ".py",
   "mimetype": "text/x-python",
   "name": "python",
   "nbconvert_exporter": "python",
   "pygments_lexer": "ipython3",
   "version": "3.7.1"
  }
 },
 "nbformat": 4,
 "nbformat_minor": 1
}
